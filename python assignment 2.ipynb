{
 "cells": [
  {
   "cell_type": "markdown",
   "id": "4fdd4ec1",
   "metadata": {},
   "source": [
    "# Problem 1:"
   ]
  },
  {
   "cell_type": "code",
   "execution_count": 1,
   "id": "4f3762c8",
   "metadata": {},
   "outputs": [
    {
     "name": "stdout",
     "output_type": "stream",
     "text": [
      "\n",
      "* \n",
      "* * \n",
      "* * * \n",
      "* * * * \n",
      "* * * * * \n",
      "* * * * \n",
      "* * * \n",
      "* * \n",
      "* \n"
     ]
    }
   ],
   "source": [
    "for i in range(6):\n",
    "    for j in range(i):\n",
    "        print(\"*\",end=\" \")\n",
    "    print()  \n",
    "for i in  range(4,0,-1):\n",
    "    for j in range(i):\n",
    "         print(\"*\",end=\" \")\n",
    "    print()\n",
    "                   "
   ]
  },
  {
   "cell_type": "markdown",
   "id": "430f07e9",
   "metadata": {},
   "source": [
    "# Problem 2:"
   ]
  },
  {
   "cell_type": "code",
   "execution_count": 2,
   "id": "8762a84d",
   "metadata": {},
   "outputs": [
    {
     "name": "stdout",
     "output_type": "stream",
     "text": [
      "enter the word to be  reversed : vaishali\n",
      "ilahsiav\n"
     ]
    }
   ],
   "source": [
    "word= input(\"enter the word to be  reversed : \")\n",
    "reverse = \"\"\n",
    "for i in word:\n",
    "    reverse = i + reverse \n",
    "print(reverse)    "
   ]
  },
  {
   "cell_type": "code",
   "execution_count": null,
   "id": "181283f9",
   "metadata": {},
   "outputs": [],
   "source": []
  }
 ],
 "metadata": {
  "kernelspec": {
   "display_name": "Python 3",
   "language": "python",
   "name": "python3"
  },
  "language_info": {
   "codemirror_mode": {
    "name": "ipython",
    "version": 3
   },
   "file_extension": ".py",
   "mimetype": "text/x-python",
   "name": "python",
   "nbconvert_exporter": "python",
   "pygments_lexer": "ipython3",
   "version": "3.8.8"
  }
 },
 "nbformat": 4,
 "nbformat_minor": 5
}
