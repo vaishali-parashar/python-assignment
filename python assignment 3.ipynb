{
 "cells": [
  {
   "cell_type": "markdown",
   "id": "52491f99",
   "metadata": {},
   "source": [
    "# Problem 1.1:\n",
    "\n",
    "1.1 Write a Python Program to implement your own myreduce() function which works exactly\n",
    "like Python's built-in function reduce()"
   ]
  },
  {
   "cell_type": "code",
   "execution_count": 1,
   "id": "6db3b5d4",
   "metadata": {},
   "outputs": [],
   "source": [
    "def addition(a,b):\n",
    "    return a+b\n",
    "sequence=[21,33,45,52,69,78,84]\n",
    "\n",
    "def myreduce(function,sequence):\n",
    "    res= sequence[0]\n",
    "    for i in range (1,len(sequence)):\n",
    "        temp=sequence[i]\n",
    "        res=function(res,temp)\n",
    "    return res                \n",
    "    "
   ]
  },
  {
   "cell_type": "code",
   "execution_count": 2,
   "id": "fee8333e",
   "metadata": {},
   "outputs": [
    {
     "data": {
      "text/plain": [
       "382"
      ]
     },
     "execution_count": 2,
     "metadata": {},
     "output_type": "execute_result"
    }
   ],
   "source": [
    "myreduce(addition,sequence)"
   ]
  },
  {
   "cell_type": "markdown",
   "id": "89f647fd",
   "metadata": {},
   "source": [
    "# Problem 1.2:\n",
    "\n",
    "1.2 Write a Python program to implement your own myfilter() function which works exactly\n",
    "like Python's built-in function filter()"
   ]
  },
  {
   "cell_type": "code",
   "execution_count": 3,
   "id": "8d8b8ba1",
   "metadata": {},
   "outputs": [],
   "source": [
    "def even(sequence):\n",
    "    l=[]\n",
    "    for i in sequence:\n",
    "        if i % 2 == 0:\n",
    "            l.append(i)\n",
    "    print(l)\n",
    "        \n",
    "        \n",
    "sequence=[12,23,34,45,56,67,78,89]\n",
    "def myfilter(even,sequence):\n",
    "    return even(sequence)\n",
    "        \n",
    "       \n",
    "        "
   ]
  },
  {
   "cell_type": "code",
   "execution_count": 4,
   "id": "904bf730",
   "metadata": {},
   "outputs": [
    {
     "name": "stdout",
     "output_type": "stream",
     "text": [
      "[12, 34, 56, 78]\n"
     ]
    }
   ],
   "source": [
    "myfilter(even,sequence)"
   ]
  },
  {
   "cell_type": "markdown",
   "id": "a6e43fd5",
   "metadata": {},
   "source": [
    "# Problem 2:\n",
    "\n",
    "2. Implement List comprehensions to produce the following lists.\n",
    "Write List comprehensions to produce the following Lists\n"
   ]
  },
  {
   "cell_type": "code",
   "execution_count": 5,
   "id": "bb5529ad",
   "metadata": {},
   "outputs": [
    {
     "data": {
      "text/plain": [
       "['x', 'xx', 'xxx', 'xxxx', 'y', 'yy', 'yyy', 'yyyy', 'z', 'zz', 'zzz', 'zzzz']"
      ]
     },
     "execution_count": 5,
     "metadata": {},
     "output_type": "execute_result"
    }
   ],
   "source": [
    "[j*i for i in 'xyz' for j in range(1,5)]"
   ]
  },
  {
   "cell_type": "code",
   "execution_count": 6,
   "id": "70f7ea2b",
   "metadata": {},
   "outputs": [
    {
     "data": {
      "text/plain": [
       "['x', 'y', 'z', 'xx', 'yy', 'zz', 'xxx', 'yyy', 'zzz', 'xxxx', 'yyyy', 'zzzz']"
      ]
     },
     "execution_count": 6,
     "metadata": {},
     "output_type": "execute_result"
    }
   ],
   "source": [
    "[i*j for i in range(1,5) for j in 'xyz']"
   ]
  },
  {
   "cell_type": "code",
   "execution_count": 7,
   "id": "1f8ab193",
   "metadata": {},
   "outputs": [
    {
     "data": {
      "text/plain": [
       "[(1, 1), (2, 1), (3, 1), (1, 2), (2, 2), (3, 2), (1, 3), (2, 3), (3, 3)]"
      ]
     },
     "execution_count": 7,
     "metadata": {},
     "output_type": "execute_result"
    }
   ],
   "source": [
    "[(j,i) for i in range(1,4) for j in range(1,4)]"
   ]
  },
  {
   "cell_type": "code",
   "execution_count": 8,
   "id": "7f6ee9fb",
   "metadata": {},
   "outputs": [
    {
     "data": {
      "text/plain": [
       "[[2, 3, 4, 5], [3, 4, 5, 6], [4, 5, 6, 7], [5, 6, 7, 8]]"
      ]
     },
     "execution_count": 8,
     "metadata": {},
     "output_type": "execute_result"
    }
   ],
   "source": [
    "[[i,i+1,i+2,i+3] for i in range(2,6)]"
   ]
  },
  {
   "cell_type": "code",
   "execution_count": 9,
   "id": "be94ffb5",
   "metadata": {},
   "outputs": [
    {
     "data": {
      "text/plain": [
       "[[2], [3], [4], [3], [4], [5], [4], [5], [6]]"
      ]
     },
     "execution_count": 9,
     "metadata": {},
     "output_type": "execute_result"
    }
   ],
   "source": [
    "[[i+j] for i in range(2,5) for j in range(3)]"
   ]
  },
  {
   "cell_type": "code",
   "execution_count": null,
   "id": "d251c350",
   "metadata": {},
   "outputs": [],
   "source": []
  }
 ],
 "metadata": {
  "kernelspec": {
   "display_name": "Python 3",
   "language": "python",
   "name": "python3"
  },
  "language_info": {
   "codemirror_mode": {
    "name": "ipython",
    "version": 3
   },
   "file_extension": ".py",
   "mimetype": "text/x-python",
   "name": "python",
   "nbconvert_exporter": "python",
   "pygments_lexer": "ipython3",
   "version": "3.8.8"
  }
 },
 "nbformat": 4,
 "nbformat_minor": 5
}
